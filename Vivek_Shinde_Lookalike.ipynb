{
 "cells": [
  {
   "cell_type": "code",
   "execution_count": 1,
   "metadata": {},
   "outputs": [
    {
     "name": "stdout",
     "output_type": "stream",
     "text": [
      "  TransactionID CustomerID ProductID      TransactionDate  Quantity  \\\n",
      "0        T00001      C0199      P067  2024-08-25 12:38:23         1   \n",
      "1        T00112      C0146      P067  2024-05-27 22:23:54         1   \n",
      "2        T00166      C0127      P067  2024-04-25 07:38:55         1   \n",
      "3        T00272      C0087      P067  2024-03-26 22:55:37         2   \n",
      "4        T00363      C0070      P067  2024-03-21 15:10:10         3   \n",
      "\n",
      "   TotalValue  Price_x     CustomerName         Region  SignupDate  \\\n",
      "0      300.68   300.68   Andrea Jenkins         Europe  2022-12-03   \n",
      "1      300.68   300.68  Brittany Harvey           Asia  2024-09-04   \n",
      "2      300.68   300.68  Kathryn Stevens         Europe  2024-04-04   \n",
      "3      601.36   300.68  Travis Campbell  South America  2024-04-11   \n",
      "4      902.04   300.68    Timothy Perez         Europe  2022-03-15   \n",
      "\n",
      "                       ProductName     Category  Price_y  \n",
      "0  ComfortLiving Bluetooth Speaker  Electronics   300.68  \n",
      "1  ComfortLiving Bluetooth Speaker  Electronics   300.68  \n",
      "2  ComfortLiving Bluetooth Speaker  Electronics   300.68  \n",
      "3  ComfortLiving Bluetooth Speaker  Electronics   300.68  \n",
      "4  ComfortLiving Bluetooth Speaker  Electronics   300.68  \n"
     ]
    }
   ],
   "source": [
    "import pandas as pd\n",
    "\n",
    "# Load datasets\n",
    "customers = pd.read_csv('Customers.csv')\n",
    "products = pd.read_csv('Products.csv')\n",
    "transactions = pd.read_csv('Transactions.csv')\n",
    "\n",
    "# Merge datasets\n",
    "data = transactions.merge(customers, on='CustomerID').merge(products, on='ProductID')\n",
    "\n",
    "# Inspect the merged data\n",
    "print(data.head())\n"
   ]
  },
  {
   "cell_type": "code",
   "execution_count": 6,
   "metadata": {},
   "outputs": [],
   "source": [
    "# Step 2: Feature Engineering\n",
    "# Aggregate customer transaction behavior\n",
    "from sklearn.preprocessing import MinMaxScaler\n",
    "customer_features = data.groupby('CustomerID').agg(\n",
    "    avg_transaction_value=('TotalValue', 'mean'),\n",
    "    total_quantity=('Quantity', 'sum'),\n",
    "    total_spent=('TotalValue', 'sum'),\n",
    "    transaction_count=('TransactionID', 'count')\n",
    ").reset_index()\n",
    "\n",
    "# One-hot encode product categories\n",
    "category_features = pd.get_dummies(data[['CustomerID', 'Category']], columns=['Category']).groupby('CustomerID').sum()\n",
    "\n",
    "# One-hot encode regions\n",
    "region_features = pd.get_dummies(customers[['CustomerID', 'Region']], columns=['Region'])\n",
    "\n",
    "# Merge all features\n",
    "customer_features = customer_features.merge(category_features, on='CustomerID').merge(region_features, on='CustomerID')\n",
    "\n",
    "# Normalize all features except CustomerID\n",
    "scaler = MinMaxScaler()\n",
    "customer_features.iloc[:, 1:] = scaler.fit_transform(customer_features.iloc[:, 1:])"
   ]
  },
  {
   "cell_type": "code",
   "execution_count": 8,
   "metadata": {},
   "outputs": [
    {
     "name": "stdout",
     "output_type": "stream",
     "text": [
      "CustomerID     C0001     C0002     C0003     C0004     C0005     C0006  \\\n",
      "CustomerID                                                               \n",
      "C0001       1.000000  0.267022  0.927161  0.917366  0.397469  0.870462   \n",
      "C0002       0.267022  1.000000  0.358195  0.360631  0.872051  0.341788   \n",
      "C0003       0.927161  0.358195  1.000000  0.884876  0.338675  0.919594   \n",
      "C0004       0.917366  0.360631  0.884876  1.000000  0.377395  0.878691   \n",
      "C0005       0.397469  0.872051  0.338675  0.377395  1.000000  0.329134   \n",
      "\n",
      "CustomerID     C0007     C0008     C0009     C0010  ...     C0191     C0192  \\\n",
      "CustomerID                                          ...                       \n",
      "C0001       0.425756  0.508752  0.204098  0.249427  ...  0.942657  0.963312   \n",
      "C0002       0.859161  0.423893  0.215560  0.332172  ...  0.217605  0.241688   \n",
      "C0003       0.374572  0.482613  0.207258  0.306821  ...  0.850345  0.926094   \n",
      "C0004       0.405042  0.626968  0.189934  0.335513  ...  0.921313  0.855769   \n",
      "C0005       0.994097  0.374061  0.164634  0.179761  ...  0.313711  0.304281   \n",
      "\n",
      "CustomerID     C0193     C0194     C0195     C0196     C0197     C0198  \\\n",
      "CustomerID                                                               \n",
      "C0001       0.347743  0.489878  0.884968  0.412011  0.401187  0.227138   \n",
      "C0002       0.751518  0.354384  0.437156  0.379451  0.232009  0.173514   \n",
      "C0003       0.282491  0.429997  0.977457  0.457696  0.345415  0.211568   \n",
      "C0004       0.491534  0.604627  0.894565  0.500121  0.389824  0.194162   \n",
      "C0005       0.780575  0.355995  0.349677  0.367991  0.344441  0.203805   \n",
      "\n",
      "CustomerID     C0199     C0200  \n",
      "CustomerID                      \n",
      "C0001       0.402936  0.452208  \n",
      "C0002       0.260457  0.920478  \n",
      "C0003       0.358393  0.466841  \n",
      "C0004       0.428683  0.529019  \n",
      "C0005       0.334294  0.896625  \n",
      "\n",
      "[5 rows x 199 columns]\n"
     ]
    }
   ],
   "source": [
    "from sklearn.metrics.pairwise import cosine_similarity\n",
    "import numpy as np\n",
    "\n",
    "# Compute cosine similarity\n",
    "similarity_matrix = cosine_similarity(customer_features.iloc[:, 1:])\n",
    "\n",
    "# Convert to DataFrame for readability\n",
    "similarity_df = pd.DataFrame(similarity_matrix, index=customer_features['CustomerID'], columns=customer_features['CustomerID'])\n",
    "\n",
    "print(similarity_df.head())\n"
   ]
  },
  {
   "cell_type": "code",
   "execution_count": 9,
   "metadata": {},
   "outputs": [
    {
     "name": "stdout",
     "output_type": "stream",
     "text": [
      "Top 3 lookalikes for the first 20 customers:\n",
      "{'C0001': [('C0190', 0.9781888059001674), ('C0048', 0.9780352189707089), ('C0112', 0.9697814096278696)], 'C0002': [('C0134', 0.982368582331819), ('C0106', 0.9803726659994487), ('C0159', 0.9717977789707041)], 'C0003': [('C0031', 0.9897139499940381), ('C0158', 0.9808906213474147), ('C0129', 0.9799176306375933)], 'C0004': [('C0113', 0.9871348783305397), ('C0012', 0.9790985357357634), ('C0104', 0.9725606963177563)], 'C0005': [('C0007', 0.9940970926643758), ('C0146', 0.9832411149217579), ('C0186', 0.9755871050965115)], 'C0006': [('C0187', 0.9882916308519284), ('C0011', 0.958010258699253), ('C0085', 0.9578973985453871)], 'C0007': [('C0005', 0.9940970926643758), ('C0140', 0.9801785123102446), ('C0115', 0.9771279324630998)], 'C0008': [('C0098', 0.9648222565161969), ('C0194', 0.9545173966367587), ('C0059', 0.9524379580307134)], 'C0009': [('C0198', 0.9730500393437196), ('C0062', 0.9507153265596022), ('C0010', 0.9328193029992267)], 'C0010': [('C0111', 0.9609841202299343), ('C0062', 0.9583084436031303), ('C0061', 0.9580362515820042)], 'C0011': [('C0126', 0.9924717133638552), ('C0174', 0.9785217881398606), ('C0153', 0.9776770451180573)], 'C0012': [('C0104', 0.9907500990896279), ('C0004', 0.9790985357357634), ('C0113', 0.9754890060392623)], 'C0013': [('C0188', 0.980381974172052), ('C0107', 0.9799323597983635), ('C0102', 0.9793468114647417)], 'C0014': [('C0060', 0.9825963868077362), ('C0198', 0.9413264591184909), ('C0062', 0.8956466097074305)], 'C0015': [('C0131', 0.9792860550430935), ('C0036', 0.9746181996231743), ('C0144', 0.9622019696884271)], 'C0016': [('C0183', 0.9990230015222747), ('C0067', 0.9863072383019867), ('C0055', 0.974103039932045)], 'C0017': [('C0075', 0.990727070334957), ('C0041', 0.98025101666642), ('C0081', 0.9788340338588246)], 'C0018': [('C0125', 0.9734455990930986), ('C0122', 0.9717539264744487), ('C0035', 0.9664644816796977)], 'C0019': [('C0070', 0.9445977610940496), ('C0121', 0.9438975632865041), ('C0023', 0.9397801339318694)], 'C0020': [('C0050', 0.9515576190200399), ('C0144', 0.934131601462882), ('C0015', 0.9329962753105632)]}\n"
     ]
    }
   ],
   "source": [
    "top_lookalikes = {}\n",
    "\n",
    "for customer in customer_features['CustomerID'][:20]:\n",
    "    similar_customers = similarity_df[customer].sort_values(ascending=False).iloc[1:4]\n",
    "    top_lookalikes[customer] = list(zip(similar_customers.index, similar_customers.values))\n",
    "\n",
    "# Save lookalikes to Lookalike.csv\n",
    "import csv\n",
    "\n",
    "with open('Vivek_Shinde_Lookalike.csv', 'w', newline='') as file:\n",
    "    writer = csv.writer(file)\n",
    "    writer.writerow(['CustomerID', 'Lookalikes'])\n",
    "    for key, value in top_lookalikes.items():\n",
    "        writer.writerow([key, value])\n",
    "\n",
    "print(\"Top 3 lookalikes for the first 20 customers:\")\n",
    "print(top_lookalikes)\n"
   ]
  },
  {
   "cell_type": "code",
   "execution_count": 12,
   "metadata": {},
   "outputs": [
    {
     "name": "stdout",
     "output_type": "stream",
     "text": [
      "\n",
      "Top 3 similar users for UserID C0001:\n",
      "\n",
      "UserID: C0190, Similarity Score: 0.98\n",
      "User Details:\n",
      "CustomerID   CustomerName        Region SignupDate\n",
      "     C0190 Alexander Lowe South America 2024-05-31\n",
      "----------------------------------------\n",
      "UserID: C0048, Similarity Score: 0.98\n",
      "User Details:\n",
      "CustomerID CustomerName        Region SignupDate\n",
      "     C0048 Matthew Park South America 2024-11-07\n",
      "----------------------------------------\n",
      "UserID: C0112, Similarity Score: 0.97\n",
      "User Details:\n",
      "CustomerID CustomerName        Region SignupDate\n",
      "     C0112 Brian Adkins South America 2022-07-07\n",
      "----------------------------------------\n"
     ]
    }
   ],
   "source": [
    "# Function to recommend top 3 similar users\n",
    "def recommend_top_similar_users(user_id):\n",
    "    if user_id not in similarity_df.index:\n",
    "        print(\"Invalid UserID. Please provide a valid UserID from the dataset.\")\n",
    "        return\n",
    "\n",
    "    # Get the similarity scores for the input user\n",
    "    similar_customers = similarity_df[user_id].sort_values(ascending=False).iloc[1:4]  # Exclude the user itself\n",
    "\n",
    "    print(f\"\\nTop 3 similar users for UserID {user_id}:\\n\")\n",
    "    \n",
    "    for similar_user, score in similar_customers.items():\n",
    "        print(f\"UserID: {similar_user}, Similarity Score: {score:.2f}\")\n",
    "        # Display full data for the similar user\n",
    "        user_data = customers[customers['CustomerID'] == similar_user]\n",
    "        print(\"User Details:\")\n",
    "        print(user_data.to_string(index=False))\n",
    "        print(\"-\" * 40)\n",
    "\n",
    "# Take user input for UserID\n",
    "input_user_id = input(\"Enter a UserID to find similar users (e.g., 'C0001'): \").strip()\n",
    "\n",
    "# Recommend top 3 similar users\n",
    "recommend_top_similar_users(input_user_id)"
   ]
  },
  {
   "cell_type": "code",
   "execution_count": null,
   "metadata": {},
   "outputs": [],
   "source": []
  },
  {
   "cell_type": "code",
   "execution_count": null,
   "metadata": {},
   "outputs": [],
   "source": []
  },
  {
   "cell_type": "code",
   "execution_count": null,
   "metadata": {},
   "outputs": [],
   "source": []
  },
  {
   "cell_type": "code",
   "execution_count": null,
   "metadata": {},
   "outputs": [],
   "source": []
  },
  {
   "cell_type": "code",
   "execution_count": null,
   "metadata": {},
   "outputs": [],
   "source": []
  },
  {
   "cell_type": "code",
   "execution_count": null,
   "metadata": {},
   "outputs": [],
   "source": []
  },
  {
   "cell_type": "code",
   "execution_count": null,
   "metadata": {},
   "outputs": [],
   "source": []
  },
  {
   "cell_type": "code",
   "execution_count": null,
   "metadata": {},
   "outputs": [],
   "source": []
  },
  {
   "cell_type": "code",
   "execution_count": null,
   "metadata": {},
   "outputs": [],
   "source": []
  },
  {
   "cell_type": "code",
   "execution_count": null,
   "metadata": {},
   "outputs": [],
   "source": []
  }
 ],
 "metadata": {
  "kernelspec": {
   "display_name": "genai",
   "language": "python",
   "name": "genai"
  },
  "language_info": {
   "codemirror_mode": {
    "name": "ipython",
    "version": 3
   },
   "file_extension": ".py",
   "mimetype": "text/x-python",
   "name": "python",
   "nbconvert_exporter": "python",
   "pygments_lexer": "ipython3",
   "version": "3.8.19"
  }
 },
 "nbformat": 4,
 "nbformat_minor": 2
}
